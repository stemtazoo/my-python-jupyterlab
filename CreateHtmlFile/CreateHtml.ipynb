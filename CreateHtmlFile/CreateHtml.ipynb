{
 "cells": [
  {
   "cell_type": "code",
   "execution_count": 3,
   "metadata": {},
   "outputs": [
    {
     "name": "stdout",
     "output_type": "stream",
     "text": [
      "<!DOCTYPE html>\n",
      "<html>\n",
      "<head>\n",
      "<meta charset=\"UTF-8\">\n",
      "<link rel=\"stylesheet\" href=\"base.css\">\n",
      "<link rel=\"stylesheet\" href=\"table.css\">\n",
      "\n",
      "<title>過去問題｜**部</title>\n",
      "</head>\n",
      "<body>\n",
      "<div id=\"pagebody\">\n",
      "\t<div id=\"header\">\n",
      "\t<h1><a href=\"TemplatePage.html\"><img src=\"images/logo.png\" alt=\"サンプルページ\"></a></h1>\n",
      "\t</div>\n",
      "\t<!-- インフォメーション（過去情報） -->\n",
      "\t<div id=\"info_sample\">\n",
      "\t<h2>部署の問題</h2>\n",
      "\t\t<div id=\"table_sample\">\n",
      "\t\t<table class=\"samplelist\">\n",
      "\t\t<tr><th>Python</th><td>3.9.4</td></tr>\n",
      "\t\t<tr><th>項目b</th><td>**</td></tr>\n",
      "\t\t<tr><th>項目c</th><td>************</td></tr>\n",
      "\t\t<tr><th>項目d</th><td>****</td></tr>\n",
      "\t\t<tr><th>項目e</th><td>**************</td></tr>\n",
      "\t\t<tr><th>項目f</th><td>****</td></tr>\n",
      "\t\t<tr><th>項目g</th><td>**************</td></tr>\n",
      "\t\t<tr><th>項目h</th><td>***********</td></tr>\n",
      "\t\t<tr><th>ファイルリンク</th><td> <a href=./pdffiles/sample.pdf target=\"_blank\" rel=\"noopener noreferrer\">./pdffiles/sample.pdf</a> </td></tr>\n",
      "\t\t</table>\n",
      "\t\t<hr>\n",
      "\t\t<iframe src=./pdffiles/sample.pdf  width=\"100%\" height=\"1200px\"></iframe>\n",
      "\t\t</div>\n",
      "\t</div>\n",
      "\n",
      "\t<!-- フッタ -->\n",
      "\t<div id=\"footer\"><small>Copyright (c)**部 All Rights Reserved.</small></div>\n",
      "</div>\n",
      "</body>\n",
      "</html>\n"
     ]
    }
   ],
   "source": [
    "#自作moduleのパスを追加。\n",
    "import sys\n",
    "sys.path.append('../my-python-module/MyModule')\n",
    "#自作moduleのインポート\n",
    "import DataAnalysis\n",
    "import importlib\n",
    "importlib.reload(DataAnalysis)\n",
    "\n",
    "#Html作成用\n",
    "from jinja2 import Environment, FileSystemLoader\n",
    "\n",
    "#データベースを読み込む\n",
    "filepath='./input/FEI_PREF_210502090318.csv'\n",
    "df=DataAnalysis.readcsv(filepath,6)\n",
    "#print(df)\n",
    "\n",
    "#テンプレートファイルを読み込む\n",
    "env = Environment(loader=FileSystemLoader('./input/', encoding='utf8')) \n",
    "tmpl = env.get_template('sample_template.html')\n",
    "\n",
    "#ここで shop に入る文字を指定している\n",
    "data = {'name_title': '部署の問題', 'item_a': 'Python','value_a':'3.9.4','PdfFilePath':'./pdffiles/sample.pdf'}\n",
    "html = tmpl.render(data)\n",
    "\n",
    "with open('./output/jinja2_test.html',mode='w', encoding='utf-8') as f:\n",
    "    f.write(str(html))\n",
    "    \n",
    "print(html)"
   ]
  },
  {
   "cell_type": "code",
   "execution_count": null,
   "metadata": {},
   "outputs": [],
   "source": []
  }
 ],
 "metadata": {
  "kernelspec": {
   "display_name": "Python 3",
   "language": "python",
   "name": "python3"
  },
  "language_info": {
   "codemirror_mode": {
    "name": "ipython",
    "version": 3
   },
   "file_extension": ".py",
   "mimetype": "text/x-python",
   "name": "python",
   "nbconvert_exporter": "python",
   "pygments_lexer": "ipython3",
   "version": "3.8.5"
  }
 },
 "nbformat": 4,
 "nbformat_minor": 4
}
